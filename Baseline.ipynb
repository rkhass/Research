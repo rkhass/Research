{
 "cells": [
  {
   "cell_type": "code",
   "execution_count": 5,
   "metadata": {},
   "outputs": [],
   "source": [
    "from sklearn.feature_extraction.text import TfidfVectorizer"
   ]
  },
  {
   "cell_type": "code",
   "execution_count": 6,
   "metadata": {},
   "outputs": [],
   "source": [
    "run utils.py"
   ]
  },
  {
   "cell_type": "code",
   "execution_count": 1,
   "metadata": {},
   "outputs": [],
   "source": [
    "## import packages\n",
    "import pandas as pd\n",
    "import seaborn as sns\n",
    "import matplotlib.pyplot as plt\n",
    "import numpy as np\n",
    "%matplotlib inline\n",
    "\n",
    "from sklearn.metrics import confusion_matrix, f1_score\n",
    "from sklearn.metrics import average_precision_score, roc_auc_score\n",
    "from sklearn.metrics import precision_recall_curve, roc_curve\n",
    "from sklearn.model_selection import train_test_split\n",
    "from imblearn.ensemble import BalanceCascade \n",
    "\n",
    "from lightgbm import LGBMClassifier\n",
    "from xgboost import XGBClassifier\n",
    "from catboost import CatBoostClassifier\n",
    "from time import time"
   ]
  },
  {
   "cell_type": "code",
   "execution_count": 2,
   "metadata": {},
   "outputs": [],
   "source": [
    "def plot_confusion_matrix(prediction, y_test):\n",
    "    plt.figure(figsize=(15, 6))\n",
    "    c_matrix = confusion_matrix(y_test, prediction)\n",
    "    c_matrix_ = np.round(100 * c_matrix / c_matrix.sum(axis=1).reshape(-1, 1))\n",
    "    plt.subplot(121)\n",
    "    sns.heatmap(c_matrix, annot=True, fmt=\"d\");\n",
    "    plt.ylabel('True label')\n",
    "    plt.xlabel('Predicted label')\n",
    "    plt.subplot(122)\n",
    "    sns.heatmap(np.asarray(c_matrix_, dtype=int), annot=True, fmt=\"d\")\n",
    "    plt.ylabel('True label')\n",
    "    plt.xlabel('Predicted label')\n",
    "    \n",
    "def get_roc_auc_score(prediction, y_test):\n",
    "    value = np.round(roc_auc_score(y_test, prediction[:,1]),4)\n",
    "    print('ROC AUC score:',  value)\n",
    "    \n",
    "    return value\n",
    "\n",
    "def get_pr_auc_score(prediction, y_test):\n",
    "    value = np.round(average_precision_score(y_test, prediction[:, 1]),4)\n",
    "    print('PR AUC score:',  value)\n",
    "    \n",
    "    return value\n",
    "    \n",
    "def plot_curves(prediction, y_test):\n",
    "    tpr, fpr, _ = roc_curve(y_test, prediction[:,1])\n",
    "    roc_auc = roc_auc_score(y_test, prediction[:,1])\n",
    "    \n",
    "    precision, recall, _ = precision_recall_curve(y_test, prediction[:,1])\n",
    "    average_precision = average_precision_score(y_test, prediction[:,1])\n",
    "\n",
    "    plt.figure(figsize=(15, 6))\n",
    "    plt.subplot(121)\n",
    "    plt.step(tpr, fpr, color='b', alpha=0.2, where='post')\n",
    "    plt.fill_between(tpr, fpr, step='post', alpha=0.2, color='b')\n",
    "    plt.xlabel('FPR')\n",
    "    plt.ylabel('TPR')\n",
    "    plt.ylim([0.0, 1.05])\n",
    "    plt.xlim([0.0, 1.0])\n",
    "    plt.title('2-class ROC curve: ROC AUC={0:0.2f}'.format(roc_auc))\n",
    "\n",
    "    plt.subplot(122)\n",
    "    plt.step(recall, precision, color='b', alpha=0.2, where='post')\n",
    "    plt.fill_between(recall, precision, step='post', alpha=0.2, color='b')\n",
    "    plt.xlabel('Recall')\n",
    "    plt.ylabel('Precision')\n",
    "    plt.ylim([0.0, 1.05])\n",
    "    plt.xlim([0.0, 1.0])\n",
    "    plt.title('2-class Precision-Recall curve: AP={0:0.2f}'.format(average_precision))\n",
    "    \n",
    "def get_threshold_by_f1(prediction_proba, y_test, plot=False):\n",
    "    thresholds = np.linspace(prediction_proba[:, 1].min(), prediction_proba[:, 1].max(), 300)\n",
    "    curve = []\n",
    "    for val in thresholds:\n",
    "       \n",
    "        prediction = np.asarray((prediction_proba[:, 1] >= val), int)\n",
    "        curve.append(f1_score(prediction, y_test))\n",
    "\n",
    "    argmax = np.argmax(curve)\n",
    "\n",
    "    if plot == True:\n",
    "        plt.figure(figsize=(14, 4))\n",
    "        plt.plot(thresholds, curve)\n",
    "        plt.title('F1 curve', fontsize=16)\n",
    "        plt.plot([thresholds[argmax]] * 2, [np.min(curve), np.max(curve)])\n",
    "    \n",
    "    return thresholds[argmax]\n",
    "\n",
    "def plot_probas(prediction_proba, y_test):\n",
    "    plt.figure(figsize=(14, 4))\n",
    "    probas = prediction_proba[:, 1]\n",
    "    ax = sns.distplot(probas)\n",
    "    proba_mean = probas.mean()\n",
    "    proba_f1_best = get_threshold_by_f1(prediction_proba, y_test)\n",
    "    plt.plot([proba_mean] * 2, ax.get_ylim(), label='Mean of probabilites')\n",
    "    plt.plot([proba_f1_best] * 2, ax.get_ylim(), label='Best threshold by f1 score')\n",
    "    plt.legend(fontsize=16)"
   ]
  },
  {
   "cell_type": "code",
   "execution_count": 3,
   "metadata": {},
   "outputs": [],
   "source": [
    "data = pd.read_pickle('../../Datasets/TransformedFullData.pkl')\n",
    "#data = pd.read_csv('TransformedData.csv')\n",
    "#data.fillna(0, inplace=True)"
   ]
  },
  {
   "cell_type": "code",
   "execution_count": 4,
   "metadata": {},
   "outputs": [],
   "source": [
    "## train test split of data\n",
    "X_train, X_test, y_train, y_test = train_test_split(data.drop(['ID', 'target'], axis=1), data.target, random_state=0)"
   ]
  },
  {
   "cell_type": "code",
   "execution_count": 5,
   "metadata": {},
   "outputs": [
    {
     "data": {
      "text/plain": [
       "(285759, 0.2500019684367725)"
      ]
     },
     "execution_count": 5,
     "metadata": {},
     "output_type": "execute_result"
    }
   ],
   "source": [
    "len(X_train), len(X_test) / len(data)"
   ]
  },
  {
   "cell_type": "markdown",
   "metadata": {},
   "source": [
    "## 0 Baseline"
   ]
  },
  {
   "cell_type": "code",
   "execution_count": 6,
   "metadata": {},
   "outputs": [
    {
     "name": "stderr",
     "output_type": "stream",
     "text": [
      "/home/rasul/.local/lib/python3.6/site-packages/scipy/stats/stats.py:1713: FutureWarning: Using a non-tuple sequence for multidimensional indexing is deprecated; use `arr[tuple(seq)]` instead of `arr[seq]`. In the future this will be interpreted as an array index, `arr[np.array(seq)]`, which will result either in an error or a different result.\n",
      "  return np.add.reduce(sorted[indexer] * weights, axis=axis) / sumval\n"
     ]
    },
    {
     "name": "stdout",
     "output_type": "stream",
     "text": [
      "ROC AUC score: 0.9061\n",
      "PR AUC score: 0.1704\n",
      "CPU times: user 1min 34s, sys: 13.3 s, total: 1min 47s\n",
      "Wall time: 39 s\n"
     ]
    },
    {
     "data": {
      "image/png": "[encoded data removed]",
      "text/plain": [
       "<Figure size 1008x288 with 1 Axes>"
      ]
     },
     "metadata": {},
     "output_type": "display_data"
    },
    {
     "data": {
      "image/png": "[encoded data removed]",
      "text/plain": [
       "<Figure size 1008x288 with 1 Axes>"
      ]
     },
     "metadata": {},
     "output_type": "display_data"
    },
    {
     "data": {
      "image/png": "[encoded data removed]",
      "text/plain": [
       "<Figure size 1080x432 with 4 Axes>"
      ]
     },
     "metadata": {},
     "output_type": "display_data"
    },
    {
     "data": {
      "image/png": "[encoded data removed]",
      "text/plain": [
       "<Figure size 1080x432 with 2 Axes>"
      ]
     },
     "metadata": {},
     "output_type": "display_data"
    }
   ],
   "source": [
    "%%time \n",
    "model = LGBMClassifier(class_weight={0: y_train.mean(), 1: 1 - y_train.mean()})\n",
    "model.fit(X_train, y_train)\n",
    "\n",
    "prediction_proba = model.predict_proba(X_test)\n",
    "prediction = prediction_proba[:, 1] > get_threshold_by_f1(prediction_proba, y_test, plot=True)\n",
    "plot_probas(prediction_proba, y_test)\n",
    "\n",
    "get_roc_auc_score(prediction_proba, y_test)\n",
    "get_pr_auc_score(prediction_proba, y_test)\n",
    "\n",
    "plot_confusion_matrix(prediction, y_test)\n",
    "plot_curves(prediction_proba, y_test)"
   ]
  },
  {
   "cell_type": "code",
   "execution_count": 7,
   "metadata": {
    "scrolled": false
   },
   "outputs": [
    {
     "name": "stderr",
     "output_type": "stream",
     "text": [
      "/home/rasul/.local/lib/python3.6/site-packages/scipy/stats/stats.py:1713: FutureWarning: Using a non-tuple sequence for multidimensional indexing is deprecated; use `arr[tuple(seq)]` instead of `arr[seq]`. In the future this will be interpreted as an array index, `arr[np.array(seq)]`, which will result either in an error or a different result.\n",
      "  return np.add.reduce(sorted[indexer] * weights, axis=axis) / sumval\n"
     ]
    },
    {
     "name": "stdout",
     "output_type": "stream",
     "text": [
      "ROC AUC score: 0.8809\n",
      "PR AUC score: 0.161\n",
      "CPU times: user 21min 45s, sys: 27.2 s, total: 22min 12s\n",
      "Wall time: 1min 40s\n"
     ]
    },
    {
     "data": {
      "image/png": "[encoded data removed]",
      "text/plain": [
       "<Figure size 1008x288 with 1 Axes>"
      ]
     },
     "metadata": {},
     "output_type": "display_data"
    },
    {
     "data": {
      "image/png": "[encoded data removed]",
      "text/plain": [
       "<Figure size 1008x288 with 1 Axes>"
      ]
     },
     "metadata": {},
     "output_type": "display_data"
    },
    {
     "data": {
      "image/png": "[encoded data removed]",
      "text/plain": [
       "<Figure size 1080x432 with 4 Axes>"
      ]
     },
     "metadata": {},
     "output_type": "display_data"
    },
    {
     "data": {
      "image/png": "[encoded data removed]",
      "text/plain": [
       "<Figure size 1080x432 with 2 Axes>"
      ]
     },
     "metadata": {},
     "output_type": "display_data"
    }
   ],
   "source": [
    "%%time \n",
    "model = XGBClassifier(n_jobs=-1)\n",
    "model.fit(X_train, y_train)\n",
    "\n",
    "prediction_proba = model.predict_proba(X_test)\n",
    "prediction = prediction_proba[:, 1] > get_threshold_by_f1(prediction_proba, y_test, plot=True)\n",
    "plot_probas(prediction_proba, y_test)\n",
    "\n",
    "get_roc_auc_score(prediction_proba, y_test)\n",
    "get_pr_auc_score(prediction_proba, y_test)\n",
    "\n",
    "plot_confusion_matrix(prediction, y_test)\n",
    "plot_curves(prediction_proba, y_test)"
   ]
  },
  {
   "cell_type": "code",
   "execution_count": null,
   "metadata": {
    "scrolled": false
   },
   "outputs": [],
   "source": [
    "%%time \n",
    "model = CatBoostClassifier(verbose=False)\n",
    "model.fit(X_train, y_train)\n",
    "\n",
    "prediction_proba = model.predict_proba(X_test)\n",
    "prediction = prediction_proba[:, 1] > get_threshold_by_f1(prediction_proba, y_test, plot=True)\n",
    "plot_probas(prediction_proba, y_test)\n",
    "\n",
    "get_roc_auc_score(prediction_proba, y_test)\n",
    "get_pr_auc_score(prediction_proba, y_test)\n",
    "\n",
    "plot_confusion_matrix(prediction, y_test)\n",
    "plot_curves(prediction_proba, y_test)"
   ]
  },
  {
   "cell_type": "markdown",
   "metadata": {},
   "source": [
    "## Imbalanced Learning "
   ]
  },
  {
   "cell_type": "markdown",
   "metadata": {},
   "source": [
    "### 1 Over-sampling\n",
    "#### 1.1 Naive random over-sampling"
   ]
  },
  {
   "cell_type": "code",
   "execution_count": null,
   "metadata": {},
   "outputs": [],
   "source": [
    "from imblearn.over_sampling import RandomOverSampler"
   ]
  },
  {
   "cell_type": "code",
   "execution_count": null,
   "metadata": {},
   "outputs": [],
   "source": [
    "%%time \n",
    "ros = RandomOverSampler(random_state=0)\n",
    "X_resampled, y_resampled = ros.fit_sample(X_train, y_train)"
   ]
  },
  {
   "cell_type": "code",
   "execution_count": null,
   "metadata": {},
   "outputs": [],
   "source": [
    "%%time \n",
    "\n",
    "model = LGBMClassifier()\n",
    "model.fit(X_resampled, y_resampled)\n",
    "\n",
    "prediction_proba = model.predict_proba(X_test)\n",
    "prediction = prediction_proba[:, 1] > get_threshold_by_f1(prediction_proba, y_test, plot=True)\n",
    "plot_probas(prediction_proba, y_test)\n",
    "\n",
    "get_roc_auc_score(prediction_proba, y_test)\n",
    "get_pr_auc_score(prediction_proba, y_test)\n",
    "\n",
    "plot_confusion_matrix(prediction, y_test)\n",
    "plot_curves(prediction_proba, y_test)"
   ]
  },
  {
   "cell_type": "code",
   "execution_count": null,
   "metadata": {},
   "outputs": [],
   "source": [
    "%%time \n",
    "\n",
    "model = XGBClassifier()\n",
    "model.fit(X_resampled, y_resampled)\n",
    "\n",
    "prediction_proba = model.predict_proba(X_test.values)\n",
    "prediction = prediction_proba[:, 1] > get_threshold_by_f1(prediction_proba, y_test, plot=True)\n",
    "plot_probas(prediction_proba, y_test)\n",
    "\n",
    "get_roc_auc_score(prediction_proba, y_test)\n",
    "get_pr_auc_score(prediction_proba, y_test)\n",
    "\n",
    "plot_confusion_matrix(prediction, y_test)\n",
    "plot_curves(prediction_proba, y_test)"
   ]
  },
  {
   "cell_type": "code",
   "execution_count": null,
   "metadata": {},
   "outputs": [],
   "source": [
    "%%time \n",
    "model = CatBoostClassifier(verbose=False)\n",
    "model.fit(X_resampled, y_resampled)\n",
    "\n",
    "prediction_proba = model.predict_proba(X_test)\n",
    "prediction = prediction_proba[:, 1] > get_threshold_by_f1(prediction_proba, y_test, plot=True)\n",
    "plot_probas(prediction_proba, y_test)\n",
    "\n",
    "get_roc_auc_score(prediction_proba, y_test)\n",
    "get_pr_auc_score(prediction_proba, y_test)\n",
    "\n",
    "plot_confusion_matrix(prediction, y_test)\n",
    "plot_curves(prediction_proba, y_test)"
   ]
  },
  {
   "cell_type": "markdown",
   "metadata": {},
   "source": [
    "#### 1.2  SMOTE: Synthetic Minority Oversampling Technique"
   ]
  },
  {
   "cell_type": "code",
   "execution_count": null,
   "metadata": {},
   "outputs": [],
   "source": [
    "from imblearn.over_sampling import SMOTE"
   ]
  },
  {
   "cell_type": "code",
   "execution_count": null,
   "metadata": {},
   "outputs": [],
   "source": [
    "%%time \n",
    "X_resampled, y_resampled = SMOTE().fit_sample(X_train, y_train)"
   ]
  },
  {
   "cell_type": "code",
   "execution_count": null,
   "metadata": {},
   "outputs": [],
   "source": [
    "%%time \n",
    "\n",
    "model = LGBMClassifier()\n",
    "model.fit(X_resampled, y_resampled)\n",
    "\n",
    "prediction_proba = model.predict_proba(X_test)\n",
    "prediction = prediction_proba[:, 1] > get_threshold_by_f1(prediction_proba, y_test, plot=True)\n",
    "plot_probas(prediction_proba, y_test)\n",
    "\n",
    "get_roc_auc_score(prediction_proba, y_test)\n",
    "get_pr_auc_score(prediction_proba, y_test)\n",
    "\n",
    "plot_confusion_matrix(prediction, y_test)\n",
    "plot_curves(prediction_proba, y_test)"
   ]
  },
  {
   "cell_type": "code",
   "execution_count": null,
   "metadata": {
    "scrolled": false
   },
   "outputs": [],
   "source": [
    "%%time \n",
    "\n",
    "model = XGBClassifier(n_jobs=-1)\n",
    "model.fit(X_resampled, y_resampled)\n",
    "\n",
    "prediction_proba = model.predict_proba(X_test.values)\n",
    "prediction = prediction_proba[:, 1] > get_threshold_by_f1(prediction_proba, y_test, plot=True)\n",
    "plot_probas(prediction_proba, y_test)\n",
    "\n",
    "get_roc_auc_score(prediction_proba, y_test)\n",
    "get_pr_auc_score(prediction_proba, y_test)\n",
    "\n",
    "plot_confusion_matrix(prediction, y_test)\n",
    "plot_curves(prediction_proba, y_test)"
   ]
  },
  {
   "cell_type": "code",
   "execution_count": null,
   "metadata": {},
   "outputs": [],
   "source": [
    "%%time \n",
    "model = CatBoostClassifier(verbose=False)\n",
    "model.fit(X_resampled, y_resampled)\n",
    "\n",
    "prediction_proba = model.predict_proba(X_test)\n",
    "prediction = prediction_proba[:, 1] > get_threshold_by_f1(prediction_proba, y_test, plot=True)\n",
    "plot_probas(prediction_proba, y_test)\n",
    "\n",
    "get_roc_auc_score(prediction_proba, y_test)\n",
    "get_pr_auc_score(prediction_proba, y_test)\n",
    "\n",
    "plot_confusion_matrix(prediction, y_test)\n",
    "plot_curves(prediction_proba, y_test)"
   ]
  },
  {
   "cell_type": "markdown",
   "metadata": {},
   "source": [
    "#### 1.3 ADASYN: Adaptive Synthetic sampling method"
   ]
  },
  {
   "cell_type": "code",
   "execution_count": null,
   "metadata": {},
   "outputs": [],
   "source": [
    "from imblearn.over_sampling import ADASYN"
   ]
  },
  {
   "cell_type": "code",
   "execution_count": null,
   "metadata": {},
   "outputs": [],
   "source": [
    "%%time \n",
    "X_resampled, y_resampled = ADASYN().fit_sample(X_train, y_train)"
   ]
  },
  {
   "cell_type": "code",
   "execution_count": null,
   "metadata": {},
   "outputs": [],
   "source": [
    "%%time \n",
    "\n",
    "model = LGBMClassifier()\n",
    "model.fit(X_resampled, y_resampled)\n",
    "\n",
    "prediction_proba = model.predict_proba(X_test)\n",
    "prediction = prediction_proba[:, 1] > get_threshold_by_f1(prediction_proba, y_test, plot=True)\n",
    "plot_probas(prediction_proba, y_test)\n",
    "\n",
    "get_roc_auc_score(prediction_proba, y_test)\n",
    "get_pr_auc_score(prediction_proba, y_test)\n",
    "\n",
    "plot_confusion_matrix(prediction, y_test)\n",
    "plot_curves(prediction_proba, y_test)"
   ]
  },
  {
   "cell_type": "code",
   "execution_count": null,
   "metadata": {},
   "outputs": [],
   "source": [
    "%%time \n",
    "\n",
    "model = XGBClassifier(n_jobs=-1)\n",
    "model.fit(X_resampled, y_resampled)\n",
    "\n",
    "prediction_proba = model.predict_proba(X_test.values)\n",
    "prediction = prediction_proba[:, 1] > get_threshold_by_f1(prediction_proba, y_test, plot=True)\n",
    "plot_probas(prediction_proba, y_test)\n",
    "\n",
    "get_roc_auc_score(prediction_proba, y_test)\n",
    "get_pr_auc_score(prediction_proba, y_test)\n",
    "\n",
    "plot_confusion_matrix(prediction, y_test)\n",
    "plot_curves(prediction_proba, y_test)"
   ]
  },
  {
   "cell_type": "code",
   "execution_count": null,
   "metadata": {},
   "outputs": [],
   "source": [
    "%%time \n",
    "model = CatBoostClassifier(verbose=False)\n",
    "model.fit(X_resampled, y_resampled)\n",
    "\n",
    "prediction_proba = model.predict_proba(X_test)\n",
    "prediction = prediction_proba[:, 1] > get_threshold_by_f1(prediction_proba, y_test, plot=True)\n",
    "plot_probas(prediction_proba, y_test)\n",
    "\n",
    "get_roc_auc_score(prediction_proba, y_test)\n",
    "get_pr_auc_score(prediction_proba, y_test)\n",
    "\n",
    "plot_confusion_matrix(prediction, y_test)\n",
    "plot_curves(prediction_proba, y_test)"
   ]
  },
  {
   "cell_type": "markdown",
   "metadata": {},
   "source": [
    "### 2 Under-sampling\n",
    "#### 2.1  Controlled under-sampling techniques"
   ]
  },
  {
   "cell_type": "code",
   "execution_count": null,
   "metadata": {},
   "outputs": [],
   "source": [
    "from imblearn.under_sampling import RandomUnderSampler"
   ]
  },
  {
   "cell_type": "code",
   "execution_count": null,
   "metadata": {},
   "outputs": [],
   "source": [
    "%%time\n",
    "X_resampled, y_resampled = RandomUnderSampler(random_state=0).fit_sample(X_train, y_train)"
   ]
  },
  {
   "cell_type": "code",
   "execution_count": null,
   "metadata": {},
   "outputs": [],
   "source": [
    "%%time \n",
    "\n",
    "model = LGBMClassifier()\n",
    "model.fit(X_resampled, y_resampled)\n",
    "\n",
    "prediction_proba = model.predict_proba(X_test)\n",
    "prediction = prediction_proba[:, 1] > get_threshold_by_f1(prediction_proba, y_test, plot=True)\n",
    "plot_probas(prediction_proba, y_test)\n",
    "\n",
    "get_roc_auc_score(prediction_proba, y_test)\n",
    "get_pr_auc_score(prediction_proba, y_test)\n",
    "\n",
    "plot_confusion_matrix(prediction, y_test)\n",
    "plot_curves(prediction_proba, y_test)"
   ]
  },
  {
   "cell_type": "code",
   "execution_count": null,
   "metadata": {},
   "outputs": [],
   "source": [
    "%%time \n",
    "\n",
    "model = XGBClassifier(n_jobs=-1)\n",
    "model.fit(X_resampled, y_resampled)\n",
    "\n",
    "prediction_proba = model.predict_proba(X_test.values)\n",
    "prediction = prediction_proba[:, 1] > get_threshold_by_f1(prediction_proba, y_test, plot=True)\n",
    "plot_probas(prediction_proba, y_test)\n",
    "\n",
    "get_roc_auc_score(prediction_proba, y_test)\n",
    "get_pr_auc_score(prediction_proba, y_test)\n",
    "\n",
    "plot_confusion_matrix(prediction, y_test)\n",
    "plot_curves(prediction_proba, y_test)"
   ]
  },
  {
   "cell_type": "code",
   "execution_count": null,
   "metadata": {},
   "outputs": [],
   "source": [
    "%%time \n",
    "model = CatBoostClassifier(verbose=False)\n",
    "model.fit(X_resampled, y_resampled)\n",
    "\n",
    "prediction_proba = model.predict_proba(X_test)\n",
    "prediction = prediction_proba[:, 1] > get_threshold_by_f1(prediction_proba, y_test, plot=True)\n",
    "plot_probas(prediction_proba, y_test)\n",
    "\n",
    "get_roc_auc_score(prediction_proba, y_test)\n",
    "get_pr_auc_score(prediction_proba, y_test)\n",
    "\n",
    "plot_confusion_matrix(prediction, y_test)\n",
    "plot_curves(prediction_proba, y_test)"
   ]
  },
  {
   "cell_type": "markdown",
   "metadata": {},
   "source": [
    "#### 2.2 Cleaning under-sampling techniques"
   ]
  },
  {
   "cell_type": "code",
   "execution_count": null,
   "metadata": {},
   "outputs": [],
   "source": [
    "from imblearn.under_sampling import EditedNearestNeighbours"
   ]
  },
  {
   "cell_type": "code",
   "execution_count": null,
   "metadata": {},
   "outputs": [],
   "source": [
    "%%time\n",
    "X_resampled, y_resampled = EditedNearestNeighbours(random_state=0).fit_sample(X_train, y_train)"
   ]
  },
  {
   "cell_type": "code",
   "execution_count": null,
   "metadata": {},
   "outputs": [],
   "source": [
    "%%time \n",
    "\n",
    "model = LGBMClassifier()\n",
    "model.fit(X_resampled, y_resampled)\n",
    "\n",
    "prediction_proba = model.predict_proba(X_test)\n",
    "prediction = prediction_proba[:, 1] > get_threshold_by_f1(prediction_proba, y_test, plot=True)\n",
    "plot_probas(prediction_proba, y_test)\n",
    "\n",
    "get_roc_auc_score(prediction_proba, y_test)\n",
    "get_pr_auc_score(prediction_proba, y_test)\n",
    "\n",
    "plot_confusion_matrix(prediction, y_test)\n",
    "plot_curves(prediction_proba, y_test)"
   ]
  },
  {
   "cell_type": "code",
   "execution_count": null,
   "metadata": {},
   "outputs": [],
   "source": [
    "%%time \n",
    "\n",
    "model = XGBClassifier(n_jobs=-1)\n",
    "model.fit(X_resampled, y_resampled)\n",
    "\n",
    "prediction_proba = model.predict_proba(X_test.values)\n",
    "prediction = prediction_proba[:, 1] > get_threshold_by_f1(prediction_proba, y_test, plot=True)\n",
    "plot_probas(prediction_proba, y_test)\n",
    "\n",
    "get_roc_auc_score(prediction_proba, y_test)\n",
    "get_pr_auc_score(prediction_proba, y_test)\n",
    "\n",
    "plot_confusion_matrix(prediction, y_test)\n",
    "plot_curves(prediction_proba, y_test)"
   ]
  },
  {
   "cell_type": "code",
   "execution_count": null,
   "metadata": {},
   "outputs": [],
   "source": [
    "%%time \n",
    "model = CatBoostClassifier(verbose=False)\n",
    "model.fit(X_resampled, y_resampled)\n",
    "\n",
    "prediction_proba = model.predict_proba(X_test)\n",
    "prediction = prediction_proba[:, 1] > get_threshold_by_f1(prediction_proba, y_test, plot=True)\n",
    "plot_probas(prediction_proba, y_test)\n",
    "\n",
    "get_roc_auc_score(prediction_proba, y_test)\n",
    "get_pr_auc_score(prediction_proba, y_test)\n",
    "\n",
    "plot_confusion_matrix(prediction, y_test)\n",
    "plot_curves(prediction_proba, y_test)"
   ]
  },
  {
   "cell_type": "code",
   "execution_count": null,
   "metadata": {},
   "outputs": [],
   "source": [
    "from imblearn.under_sampling import RepeatedEditedNearestNeighbours"
   ]
  },
  {
   "cell_type": "code",
   "execution_count": null,
   "metadata": {},
   "outputs": [],
   "source": [
    "%%time\n",
    "X_resampled, y_resampled = RepeatedEditedNearestNeighbours(random_state=0).fit_sample(X_train, y_train)"
   ]
  },
  {
   "cell_type": "code",
   "execution_count": null,
   "metadata": {},
   "outputs": [],
   "source": [
    "%%time \n",
    "\n",
    "model = LGBMClassifier()\n",
    "model.fit(X_resampled, y_resampled)\n",
    "\n",
    "prediction_proba = model.predict_proba(X_test)\n",
    "prediction = prediction_proba[:, 1] > get_threshold_by_f1(prediction_proba, y_test, plot=True)\n",
    "plot_probas(prediction_proba, y_test)\n",
    "\n",
    "get_roc_auc_score(prediction_proba, y_test)\n",
    "get_pr_auc_score(prediction_proba, y_test)\n",
    "\n",
    "plot_confusion_matrix(prediction, y_test)\n",
    "plot_curves(prediction_proba, y_test)"
   ]
  },
  {
   "cell_type": "code",
   "execution_count": null,
   "metadata": {},
   "outputs": [],
   "source": [
    "%%time \n",
    "\n",
    "model = XGBClassifier(n_jobs=-1)\n",
    "model.fit(X_resampled, y_resampled)\n",
    "\n",
    "prediction_proba = model.predict_proba(X_test.values)\n",
    "prediction = prediction_proba[:, 1] > get_threshold_by_f1(prediction_proba, y_test, plot=True)\n",
    "plot_probas(prediction_proba, y_test)\n",
    "\n",
    "get_roc_auc_score(prediction_proba, y_test)\n",
    "get_pr_auc_score(prediction_proba, y_test)\n",
    "\n",
    "plot_confusion_matrix(prediction, y_test)\n",
    "plot_curves(prediction_proba, y_test)"
   ]
  },
  {
   "cell_type": "code",
   "execution_count": null,
   "metadata": {},
   "outputs": [],
   "source": [
    "%%time \n",
    "model = CatBoostClassifier(verbose=False)\n",
    "model.fit(X_resampled, y_resampled)\n",
    "\n",
    "prediction_proba = model.predict_proba(X_test)\n",
    "prediction = prediction_proba[:, 1] > get_threshold_by_f1(prediction_proba, y_test, plot=True)\n",
    "plot_probas(prediction_proba, y_test)\n",
    "\n",
    "get_roc_auc_score(prediction_proba, y_test)\n",
    "get_pr_auc_score(prediction_proba, y_test)\n",
    "\n",
    "plot_confusion_matrix(prediction, y_test)\n",
    "plot_curves(prediction_proba, y_test)"
   ]
  },
  {
   "cell_type": "code",
   "execution_count": null,
   "metadata": {},
   "outputs": [],
   "source": [
    "from imblearn.under_sampling import AllKNN"
   ]
  },
  {
   "cell_type": "code",
   "execution_count": null,
   "metadata": {},
   "outputs": [],
   "source": [
    "%%time\n",
    "X_resampled, y_resampled = AllKNN(random_state=0).fit_sample(X_train, y_train)"
   ]
  },
  {
   "cell_type": "code",
   "execution_count": null,
   "metadata": {},
   "outputs": [],
   "source": [
    "%%time \n",
    "\n",
    "model = LGBMClassifier()\n",
    "model.fit(X_resampled, y_resampled)\n",
    "\n",
    "prediction_proba = model.predict_proba(X_test)\n",
    "prediction = prediction_proba[:, 1] > get_threshold_by_f1(prediction_proba, y_test, plot=True)\n",
    "plot_probas(prediction_proba, y_test)\n",
    "\n",
    "get_roc_auc_score(prediction_proba, y_test)\n",
    "get_pr_auc_score(prediction_proba, y_test)\n",
    "\n",
    "plot_confusion_matrix(prediction, y_test)\n",
    "plot_curves(prediction_proba, y_test)"
   ]
  },
  {
   "cell_type": "code",
   "execution_count": null,
   "metadata": {},
   "outputs": [],
   "source": [
    "%%time \n",
    "\n",
    "model = XGBClassifier(n_jobs=-1)\n",
    "model.fit(X_resampled, y_resampled)\n",
    "\n",
    "prediction_proba = model.predict_proba(X_test.values)\n",
    "prediction = prediction_proba[:, 1] > get_threshold_by_f1(prediction_proba, y_test, plot=True)\n",
    "plot_probas(prediction_proba, y_test)\n",
    "\n",
    "get_roc_auc_score(prediction_proba, y_test)\n",
    "get_pr_auc_score(prediction_proba, y_test)\n",
    "\n",
    "plot_confusion_matrix(prediction, y_test)\n",
    "plot_curves(prediction_proba, y_test)"
   ]
  },
  {
   "cell_type": "code",
   "execution_count": null,
   "metadata": {},
   "outputs": [],
   "source": [
    "%%time \n",
    "model = CatBoostClassifier(verbose=False)\n",
    "model.fit(X_resampled, y_resampled)\n",
    "\n",
    "prediction_proba = model.predict_proba(X_test)\n",
    "prediction = prediction_proba[:, 1] > get_threshold_by_f1(prediction_proba, y_test, plot=True)\n",
    "plot_probas(prediction_proba, y_test)\n",
    "\n",
    "get_roc_auc_score(prediction_proba, y_test)\n",
    "get_pr_auc_score(prediction_proba, y_test)\n",
    "\n",
    "plot_confusion_matrix(prediction, y_test)\n",
    "plot_curves(prediction_proba, y_test)"
   ]
  },
  {
   "cell_type": "markdown",
   "metadata": {},
   "source": [
    "#### 2.3  Instance hardness threshold"
   ]
  },
  {
   "cell_type": "code",
   "execution_count": null,
   "metadata": {},
   "outputs": [],
   "source": [
    "from imblearn.under_sampling import InstanceHardnessThreshold"
   ]
  },
  {
   "cell_type": "code",
   "execution_count": null,
   "metadata": {},
   "outputs": [],
   "source": [
    "%%time\n",
    "iht = InstanceHardnessThreshold(random_state=0)\n",
    "X_resampled, y_resampled = iht.fit_sample(X_train, y_train)"
   ]
  },
  {
   "cell_type": "code",
   "execution_count": null,
   "metadata": {},
   "outputs": [],
   "source": [
    "%%time \n",
    "\n",
    "model = LGBMClassifier()\n",
    "model.fit(X_resampled, y_resampled)\n",
    "\n",
    "prediction_proba = model.predict_proba(X_test)\n",
    "prediction = prediction_proba[:, 1] > get_threshold_by_f1(prediction_proba, y_test, plot=True)\n",
    "plot_probas(prediction_proba, y_test)\n",
    "\n",
    "get_roc_auc_score(prediction_proba, y_test)\n",
    "get_pr_auc_score(prediction_proba, y_test)\n",
    "\n",
    "plot_confusion_matrix(prediction, y_test)\n",
    "plot_curves(prediction_proba, y_test)"
   ]
  },
  {
   "cell_type": "code",
   "execution_count": null,
   "metadata": {},
   "outputs": [],
   "source": [
    "%%time \n",
    "\n",
    "model = XGBClassifier(n_jobs=-1)\n",
    "model.fit(X_resampled, y_resampled)\n",
    "\n",
    "prediction_proba = model.predict_proba(X_test.values)\n",
    "prediction = prediction_proba[:, 1] > get_threshold_by_f1(prediction_proba, y_test, plot=True)\n",
    "plot_probas(prediction_proba, y_test)\n",
    "\n",
    "get_roc_auc_score(prediction_proba, y_test)\n",
    "get_pr_auc_score(prediction_proba, y_test)\n",
    "\n",
    "plot_confusion_matrix(prediction, y_test)\n",
    "plot_curves(prediction_proba, y_test)"
   ]
  },
  {
   "cell_type": "code",
   "execution_count": null,
   "metadata": {},
   "outputs": [],
   "source": [
    "%%time \n",
    "\n",
    "model = CatBoostClassifier(verbose=False)\n",
    "model.fit(X_resampled, y_resampled)\n",
    "\n",
    "prediction_proba = model.predict_proba(X_test)\n",
    "prediction = prediction_proba[:, 1] > get_threshold_by_f1(prediction_proba, y_test, plot=True)\n",
    "plot_probas(prediction_proba, y_test)\n",
    "\n",
    "get_roc_auc_score(prediction_proba, y_test)\n",
    "get_pr_auc_score(prediction_proba, y_test)\n",
    "\n",
    "plot_confusion_matrix(prediction, y_test)\n",
    "plot_curves(prediction_proba, y_test)"
   ]
  },
  {
   "cell_type": "markdown",
   "metadata": {},
   "source": [
    "### 3 Combination of over- and under-sampling"
   ]
  },
  {
   "cell_type": "code",
   "execution_count": null,
   "metadata": {},
   "outputs": [],
   "source": [
    "from imblearn.combine import SMOTEENN"
   ]
  },
  {
   "cell_type": "code",
   "execution_count": null,
   "metadata": {},
   "outputs": [],
   "source": [
    "%%time\n",
    "smote_enn = SMOTEENN(random_state=0)\n",
    "X_resampled, y_resampled = smote_enn.fit_sample(X_train, y_train)"
   ]
  },
  {
   "cell_type": "code",
   "execution_count": null,
   "metadata": {},
   "outputs": [],
   "source": [
    "%%time \n",
    "\n",
    "model = LGBMClassifier()\n",
    "model.fit(X_resampled, y_resampled)\n",
    "\n",
    "prediction_proba = model.predict_proba(X_test)\n",
    "prediction = prediction_proba[:, 1] > get_threshold_by_f1(prediction_proba, y_test, plot=True)\n",
    "plot_probas(prediction_proba, y_test)\n",
    "\n",
    "get_roc_auc_score(prediction_proba, y_test)\n",
    "get_pr_auc_score(prediction_proba, y_test)\n",
    "\n",
    "plot_confusion_matrix(prediction, y_test)\n",
    "plot_curves(prediction_proba, y_test)"
   ]
  },
  {
   "cell_type": "code",
   "execution_count": null,
   "metadata": {},
   "outputs": [],
   "source": [
    "%%time \n",
    "\n",
    "model = XGBClassifier(n_jobs=-1)\n",
    "model.fit(X_resampled, y_resampled)\n",
    "\n",
    "prediction_proba = model.predict_proba(X_test.values)\n",
    "prediction = prediction_proba[:, 1] > get_threshold_by_f1(prediction_proba, y_test, plot=True)\n",
    "plot_probas(prediction_proba, y_test)\n",
    "\n",
    "get_roc_auc_score(prediction_proba, y_test)\n",
    "get_pr_auc_score(prediction_proba, y_test)\n",
    "\n",
    "plot_confusion_matrix(prediction, y_test)\n",
    "plot_curves(prediction_proba, y_test)"
   ]
  },
  {
   "cell_type": "code",
   "execution_count": null,
   "metadata": {},
   "outputs": [],
   "source": [
    "%%time \n",
    "model = CatBoostClassifier(verbose=False)\n",
    "model.fit(X_resampled, y_resampled)\n",
    "\n",
    "prediction_proba = model.predict_proba(X_test)\n",
    "prediction = prediction_proba[:, 1] > get_threshold_by_f1(prediction_proba, y_test, plot=True)\n",
    "plot_probas(prediction_proba, y_test)\n",
    "\n",
    "get_roc_auc_score(prediction_proba, y_test)\n",
    "get_pr_auc_score(prediction_proba, y_test)\n",
    "\n",
    "plot_confusion_matrix(prediction, y_test)\n",
    "plot_curves(prediction_proba, y_test)"
   ]
  },
  {
   "cell_type": "markdown",
   "metadata": {},
   "source": [
    "### 4 Ensemble of samplers"
   ]
  },
  {
   "cell_type": "code",
   "execution_count": null,
   "metadata": {},
   "outputs": [],
   "source": [
    "from imblearn.ensemble import BalancedBaggingClassifier"
   ]
  },
  {
   "cell_type": "code",
   "execution_count": null,
   "metadata": {
    "scrolled": false
   },
   "outputs": [],
   "source": [
    "%%time \n",
    "\n",
    "model = BalancedBaggingClassifier(base_estimator=LGBMClassifier(),\n",
    "                                 ratio='auto',\n",
    "                                 replacement=False,\n",
    "                                 random_state=0)\n",
    "model.fit(X_train, y_train)\n",
    "\n",
    "prediction_proba = model.predict_proba(X_test)\n",
    "prediction = prediction_proba[:, 1] > get_threshold_by_f1(prediction_proba, y_test, plot=True)\n",
    "plot_probas(prediction_proba, y_test)\n",
    "\n",
    "get_roc_auc_score(prediction_proba, y_test)\n",
    "get_pr_auc_score(prediction_proba, y_test)\n",
    "\n",
    "plot_confusion_matrix(prediction, y_test)\n",
    "plot_curves(prediction_proba, y_test)"
   ]
  },
  {
   "cell_type": "code",
   "execution_count": null,
   "metadata": {
    "scrolled": false
   },
   "outputs": [],
   "source": [
    "%%time \n",
    "\n",
    "model = BalancedBaggingClassifier(base_estimator=XGBClassifier(n_jobs=-1),\n",
    "                                 ratio='auto',\n",
    "                                 replacement=False,\n",
    "                                 random_state=0)\n",
    "model.fit(X_train, y_train)\n",
    "\n",
    "prediction_proba = model.predict_proba(X_test)\n",
    "prediction = prediction_proba[:, 1] > get_threshold_by_f1(prediction_proba, y_test, plot=True)\n",
    "plot_probas(prediction_proba, y_test)\n",
    "\n",
    "get_roc_auc_score(prediction_proba, y_test)\n",
    "get_pr_auc_score(prediction_proba, y_test)\n",
    "\n",
    "plot_confusion_matrix(prediction, y_test)\n",
    "plot_curves(prediction_proba, y_test)"
   ]
  },
  {
   "cell_type": "code",
   "execution_count": null,
   "metadata": {},
   "outputs": [],
   "source": [
    "%%time \n",
    "\n",
    "model = BalancedBaggingClassifier(base_estimator=CatBoostClassifier(verbose=False),\n",
    "                                 ratio='auto',\n",
    "                                 replacement=False,\n",
    "                                 random_state=0)\n",
    "model.fit(X_train, y_train)\n",
    "\n",
    "prediction_proba = model.predict_proba(X_test)\n",
    "prediction = prediction_proba[:, 1] > get_threshold_by_f1(prediction_proba, y_test, plot=True)\n",
    "plot_probas(prediction_proba, y_test)\n",
    "\n",
    "get_roc_auc_score(prediction_proba, y_test)\n",
    "get_pr_auc_score(prediction_proba, y_test)\n",
    "\n",
    "plot_confusion_matrix(prediction, y_test)\n",
    "plot_curves(prediction_proba, y_test)"
   ]
  },
  {
   "cell_type": "markdown",
   "metadata": {},
   "source": [
    "## Balancing data"
   ]
  },
  {
   "cell_type": "code",
   "execution_count": null,
   "metadata": {},
   "outputs": [],
   "source": [
    "fig = plt.figure(figsize=(15,8))\n",
    "ax1 = fig.add_subplot(1,2,1)\n",
    "ax1.set_xlim([-0.05,1.05])\n",
    "ax1.set_ylim([-0.05,1.05])\n",
    "ax1.set_xlabel('Recall')\n",
    "ax1.set_ylabel('Precision')\n",
    "ax1.set_title('PR Curve')\n",
    "\n",
    "ax2 = fig.add_subplot(1,2,2)\n",
    "ax2.set_xlim([-0.05,1.05])\n",
    "ax2.set_ylim([-0.05,1.05])\n",
    "ax2.set_xlabel('False Positive Rate')\n",
    "ax2.set_ylabel('True Positive Rate')\n",
    "ax2.set_title('ROC Curve')\n",
    "\n",
    "for w,k in zip(np.arange(15, 200, 5),'bgrcmykw'):\n",
    "    lr_model = LGBMClassifier(class_weight={0:1,1:w})\n",
    "    lr_model.fit(X_train,y_train)\n",
    "    pred_prob = lr_model.predict_proba(X_test)[:,1]\n",
    "    print('w = ', w) \n",
    "    get_roc_auc_score(lr_model.predict_proba(X_test), y_test)\n",
    "    get_pr_auc_score (lr_model.predict_proba(X_test), y_test)\n",
    "    \n",
    "    p,r,_ = precision_recall_curve(y_test, pred_prob)\n",
    "    tpr,fpr,_ = roc_curve(y_test, pred_prob)\n",
    "    \n",
    "    ax1.plot(r,p,c=k,label=w)\n",
    "    ax2.plot(tpr,fpr,c=k,label=w)\n",
    "ax1.legend(loc='lower left')    \n",
    "ax2.legend(loc='lower left')\n",
    "\n",
    "plt.show()"
   ]
  }
 ],
 "metadata": {
  "kernelspec": {
   "display_name": "Python 3",
   "language": "python",
   "name": "python3"
  },
  "language_info": {
   "codemirror_mode": {
    "name": "ipython",
    "version": 3
   },
   "file_extension": ".py",
   "mimetype": "text/x-python",
   "name": "python",
   "nbconvert_exporter": "python",
   "pygments_lexer": "ipython3",
   "version": "3.5.2"
  }
 },
 "nbformat": 4,
 "nbformat_minor": 2
}
